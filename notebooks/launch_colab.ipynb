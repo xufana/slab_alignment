{
  "nbformat": 4,
  "nbformat_minor": 0,
  "metadata": {
    "colab": {
      "provenance": [],
      "gpuType": "T4"
    },
    "kernelspec": {
      "name": "python3",
      "display_name": "Python 3"
    },
    "language_info": {
      "name": "python"
    },
    "accelerator": "GPU"
  },
  "cells": [
    {
      "cell_type": "code",
      "execution_count": 1,
      "metadata": {
        "id": "mdtgKVV670tl",
        "colab": {
          "base_uri": "https://localhost:8080/"
        },
        "outputId": "c54d547e-61d3-47cb-cc36-6e4df53b0e36"
      },
      "outputs": [
        {
          "output_type": "stream",
          "name": "stdout",
          "text": [
            "Cloning into 'slab_alignment'...\n",
            "remote: Enumerating objects: 31, done.\u001b[K\n",
            "remote: Counting objects: 100% (31/31), done.\u001b[K\n",
            "remote: Compressing objects: 100% (22/22), done.\u001b[K\n",
            "remote: Total 31 (delta 7), reused 30 (delta 6), pack-reused 0\u001b[K\n",
            "Receiving objects: 100% (31/31), 23.97 KiB | 4.79 MiB/s, done.\n",
            "Resolving deltas: 100% (7/7), done.\n"
          ]
        }
      ],
      "source": [
        "! git clone https://github.com/xufana/slab_alignment"
      ]
    },
    {
      "cell_type": "code",
      "source": [
        "! pip install -r /content/slab_alignment/requirements.txt"
      ],
      "metadata": {
        "colab": {
          "base_uri": "https://localhost:8080/"
        },
        "id": "aPOLsUU9OMgh",
        "outputId": "63df8a11-1ab0-4cf6-8bb1-f6fde9f63066"
      },
      "execution_count": 2,
      "outputs": [
        {
          "output_type": "stream",
          "name": "stdout",
          "text": [
            "  Attempting uninstall: pandas\n",
            "    Found existing installation: pandas 1.5.3\n",
            "    Uninstalling pandas-1.5.3:\n",
            "      Successfully uninstalled pandas-1.5.3\n",
            "  Attempting uninstall: transformers\n",
            "    Found existing installation: transformers 4.35.2\n",
            "    Uninstalling transformers-4.35.2:\n",
            "      Successfully uninstalled transformers-4.35.2\n",
            "  Attempting uninstall: torch\n",
            "    Found existing installation: torch 2.1.0+cu121\n",
            "    Uninstalling torch-2.1.0+cu121:\n",
            "      Successfully uninstalled torch-2.1.0+cu121\n",
            "\u001b[31mERROR: pip's dependency resolver does not currently take into account all the packages that are installed. This behaviour is the source of the following dependency conflicts.\n",
            "lida 0.0.10 requires fastapi, which is not installed.\n",
            "lida 0.0.10 requires kaleido, which is not installed.\n",
            "lida 0.0.10 requires python-multipart, which is not installed.\n",
            "lida 0.0.10 requires uvicorn, which is not installed.\n",
            "bigframes 0.18.0 requires pandas<2.1.4,>=1.5.0, but you have pandas 2.1.4 which is incompatible.\n",
            "google-colab 1.0.0 requires pandas==1.5.3, but you have pandas 2.1.4 which is incompatible.\n",
            "torchaudio 2.1.0+cu121 requires torch==2.1.0, but you have torch 2.1.2 which is incompatible.\n",
            "torchdata 0.7.0 requires torch==2.1.0, but you have torch 2.1.2 which is incompatible.\n",
            "torchtext 0.16.0 requires torch==2.1.0, but you have torch 2.1.2 which is incompatible.\n",
            "torchvision 0.16.0+cu121 requires torch==2.1.0, but you have torch 2.1.2 which is incompatible.\u001b[0m\u001b[31m\n",
            "\u001b[0mSuccessfully installed accelerate-0.26.1 datasets-2.16.1 dill-0.3.7 docstring-parser-0.15 fire-0.5.0 multiprocess-0.70.15 nvidia-cublas-cu12-12.1.3.1 nvidia-cuda-cupti-cu12-12.1.105 nvidia-cuda-nvrtc-cu12-12.1.105 nvidia-cuda-runtime-cu12-12.1.105 nvidia-cudnn-cu12-8.9.2.26 nvidia-cufft-cu12-11.0.2.54 nvidia-curand-cu12-10.3.2.106 nvidia-cusolver-cu12-11.4.5.107 nvidia-cusparse-cu12-12.1.0.106 nvidia-nccl-cu12-2.18.1 nvidia-nvjitlink-cu12-12.3.101 nvidia-nvtx-cu12-12.1.105 pandas-2.1.4 shtab-1.6.5 torch-2.1.2 transformers-4.36.2 trl-0.7.9 tyro-0.6.4 tzdata-2023.4\n"
          ]
        }
      ]
    },
    {
      "cell_type": "code",
      "source": [
        "!python /content/slab_alignment/main.py --mode \"inference\" --n 100 --version \"no_alignment\" --prompts_src '/content/slab_alignment/data/prompts_test.txt'"
      ],
      "metadata": {
        "id": "foofIfkgNDqc"
      },
      "execution_count": 9,
      "outputs": []
    },
    {
      "cell_type": "code",
      "source": [
        "!python /content/slab_alignment/main.py --mode \"train\" --n 50 --version \"alignment\" --template_src \"/content/slab_alignment/data/templates.json\" --titles_src \"/content/slab_alignment/data/titles.txt\" --prompts_src None --loss_type \"hinge\""
      ],
      "metadata": {
        "colab": {
          "base_uri": "https://localhost:8080/"
        },
        "id": "-ZKk_h4lODpk",
        "outputId": "be7d0cfd-d2ae-409d-8d59-128e8bb7321e"
      },
      "execution_count": 37,
      "outputs": [
        {
          "output_type": "stream",
          "name": "stdout",
          "text": [
            "2024-01-15 05:17:24.951693: E external/local_xla/xla/stream_executor/cuda/cuda_dnn.cc:9261] Unable to register cuDNN factory: Attempting to register factory for plugin cuDNN when one has already been registered\n",
            "2024-01-15 05:17:24.951744: E external/local_xla/xla/stream_executor/cuda/cuda_fft.cc:607] Unable to register cuFFT factory: Attempting to register factory for plugin cuFFT when one has already been registered\n",
            "2024-01-15 05:17:24.953265: E external/local_xla/xla/stream_executor/cuda/cuda_blas.cc:1515] Unable to register cuBLAS factory: Attempting to register factory for plugin cuBLAS when one has already been registered\n",
            "2024-01-15 05:17:26.181291: W tensorflow/compiler/tf2tensorrt/utils/py_utils.cc:38] TF-TRT Warning: Could not find TensorRT\n",
            "Preparing Prompts\n",
            "Initializing models...\n",
            "Generating reviews...\n",
            "Setting `pad_token_id` to `eos_token_id`:50256 for open-end generation.\n",
            "A decoder-only architecture is being used, but right-padding was detected! For correct generation results, please set `padding_side='left'` when initializing the tokenizer.\n",
            "Scoring generations...\n",
            "Training the model...\n",
            "/usr/local/lib/python3.10/dist-packages/trl/trainer/dpo_trainer.py:285: UserWarning: When using DPODataCollatorWithPadding, you should set `max_length` in the DPOTrainer's init it will be set to `512` by default, but you should do it yourself in the future.\n",
            "  warnings.warn(\n",
            "/usr/local/lib/python3.10/dist-packages/trl/trainer/dpo_trainer.py:292: UserWarning: When using DPODataCollatorWithPadding, you should set `max_prompt_length` in the DPOTrainer's init it will be set to `128` by default, but you should do it yourself in the future.\n",
            "  warnings.warn(\n",
            "Map: 100% 50/50 [00:00<00:00, 819.16 examples/s]\n",
            "  0% 0/21 [00:00<?, ?it/s]Could not estimate the number of tokens of the input, floating-point operations will not be computed\n",
            "{'train_runtime': 14.9337, 'train_samples_per_second': 10.044, 'train_steps_per_second': 1.406, 'train_loss': 1.0, 'epoch': 3.0}\n",
            "100% 21/21 [00:14<00:00,  1.41it/s]\n",
            "Saving the model...\n",
            "All done!\n"
          ]
        }
      ]
    },
    {
      "cell_type": "code",
      "source": [
        "!python /content/slab_alignment/main.py --mode \"inference\" --n 50 --version \"hinge_50_alignment\" --prompts_src '/content/slab_alignment/data/prompts_test.txt' --gen_model \"/content/models/model_hinge\""
      ],
      "metadata": {
        "colab": {
          "base_uri": "https://localhost:8080/"
        },
        "id": "Yk_mW_CdXkcQ",
        "outputId": "275bbe6e-a084-4218-aa5e-8f29d51e09eb"
      },
      "execution_count": 38,
      "outputs": [
        {
          "output_type": "stream",
          "name": "stdout",
          "text": [
            "2024-01-15 05:18:01.565618: E external/local_xla/xla/stream_executor/cuda/cuda_dnn.cc:9261] Unable to register cuDNN factory: Attempting to register factory for plugin cuDNN when one has already been registered\n",
            "2024-01-15 05:18:01.565674: E external/local_xla/xla/stream_executor/cuda/cuda_fft.cc:607] Unable to register cuFFT factory: Attempting to register factory for plugin cuFFT when one has already been registered\n",
            "2024-01-15 05:18:01.567123: E external/local_xla/xla/stream_executor/cuda/cuda_blas.cc:1515] Unable to register cuBLAS factory: Attempting to register factory for plugin cuBLAS when one has already been registered\n",
            "2024-01-15 05:18:02.765826: W tensorflow/compiler/tf2tensorrt/utils/py_utils.cc:38] TF-TRT Warning: Could not find TensorRT\n",
            "Initializing models...\n",
            "Generating reviews...\n",
            "Setting `pad_token_id` to `eos_token_id`:50256 for open-end generation.\n",
            "A decoder-only architecture is being used, but right-padding was detected! For correct generation results, please set `padding_side='left'` when initializing the tokenizer.\n",
            "Scoring generations...\n",
            "Saving the results...\n"
          ]
        }
      ]
    },
    {
      "cell_type": "code",
      "source": [
        "! zip -r /content/model_hinge.zip /content/models/model_hinge"
      ],
      "metadata": {
        "colab": {
          "base_uri": "https://localhost:8080/"
        },
        "id": "8L387536ZLon",
        "outputId": "11a1932e-48cb-4f74-aced-e32f32963223"
      },
      "execution_count": 25,
      "outputs": [
        {
          "output_type": "stream",
          "name": "stdout",
          "text": [
            "  adding: content/models/model_hinge/ (stored 0%)\n",
            "  adding: content/models/model_hinge/generation_config.json (deflated 24%)\n",
            "  adding: content/models/model_hinge/model.safetensors (deflated 7%)\n",
            "  adding: content/models/model_hinge/merges.txt (deflated 53%)\n",
            "  adding: content/models/model_hinge/special_tokens_map.json (deflated 74%)\n",
            "  adding: content/models/model_hinge/vocab.json (deflated 59%)\n",
            "  adding: content/models/model_hinge/config.json (deflated 51%)\n",
            "  adding: content/models/model_hinge/tokenizer.json (deflated 72%)\n",
            "  adding: content/models/model_hinge/tokenizer_config.json (deflated 56%)\n",
            "  adding: content/models/model_hinge/training_args.bin (deflated 51%)\n"
          ]
        }
      ]
    },
    {
      "cell_type": "code",
      "source": [
        "! zip -r /content/model_sigmoid.zip /content/models/model_sigmoid"
      ],
      "metadata": {
        "colab": {
          "base_uri": "https://localhost:8080/"
        },
        "id": "vvy_AANkZPoA",
        "outputId": "9f8a85a9-55c7-49d9-a926-a7a8ec6cfb11"
      },
      "execution_count": 26,
      "outputs": [
        {
          "output_type": "stream",
          "name": "stdout",
          "text": [
            "  adding: content/models/model_sigmoid/ (stored 0%)\n",
            "  adding: content/models/model_sigmoid/generation_config.json (deflated 24%)\n",
            "  adding: content/models/model_sigmoid/model.safetensors (deflated 7%)\n",
            "  adding: content/models/model_sigmoid/merges.txt (deflated 53%)\n",
            "  adding: content/models/model_sigmoid/special_tokens_map.json (deflated 74%)\n",
            "  adding: content/models/model_sigmoid/vocab.json (deflated 59%)\n",
            "  adding: content/models/model_sigmoid/config.json (deflated 51%)\n",
            "  adding: content/models/model_sigmoid/tokenizer.json (deflated 72%)\n",
            "  adding: content/models/model_sigmoid/tokenizer_config.json (deflated 56%)\n",
            "  adding: content/models/model_sigmoid/training_args.bin (deflated 51%)\n"
          ]
        }
      ]
    },
    {
      "cell_type": "code",
      "source": [],
      "metadata": {
        "id": "fLOfIAzZgf6J"
      },
      "execution_count": null,
      "outputs": []
    }
  ]
}